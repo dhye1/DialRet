{
 "cells": [
  {
   "cell_type": "code",
   "execution_count": 1,
   "metadata": {},
   "outputs": [
    {
     "name": "stderr",
     "output_type": "stream",
     "text": [
      "/home/uj-user/Yo/hybrid-ltm/ltm-venv/lib/python3.8/site-packages/tqdm/auto.py:21: TqdmWarning: IProgress not found. Please update jupyter and ipywidgets. See https://ipywidgets.readthedocs.io/en/stable/user_install.html\n",
      "  from .autonotebook import tqdm as notebook_tqdm\n"
     ]
    }
   ],
   "source": [
    "from transformers import AutoModelForSeq2SeqLM, AutoTokenizer, pipeline\n",
    "from datasets import load_dataset, Dataset, DatasetDict\n",
    "import pandas as pd\n",
    "import torch\n",
    "import os\n",
    "\n",
    "# os.environ[\"CUDA_VISIBLE_DEVICES\"] = \"3\""
   ]
  },
  {
   "cell_type": "code",
   "execution_count": 2,
   "metadata": {},
   "outputs": [],
   "source": [
    "data_path = \"/home/uj-user/Yo/hybrid-ltm/data_eval/context-fms/MS_DG/test.jsonl\"\n",
    "data_path = \"/home/uj-user/Yo/hybrid-ltm/data_eval/context-fms/MS_DG/test_last_session.jsonl\"\n",
    "# model_name = \"facebook/blenderbot-3B\"\n",
    "# model_name = \"gpt2\"\n",
    "model_name = \"jihyoung/rebot-generation\"\n",
    "MODEL_MAX_LEN=1024\n",
    "TARGET_LEN = 128\n",
    "device = \"cuda:0\" if torch.cuda.is_available() else \"cpu\""
   ]
  },
  {
   "cell_type": "code",
   "execution_count": 3,
   "metadata": {},
   "outputs": [],
   "source": [
    "model = AutoModelForSeq2SeqLM.from_pretrained(model_name).to(device)"
   ]
  },
  {
   "cell_type": "code",
   "execution_count": 4,
   "metadata": {},
   "outputs": [],
   "source": [
    "summarizer = pipeline(\"summarization\",\n",
    "                                   model=AutoModelForSeq2SeqLM.from_pretrained(\"jihyoung/rebot-summarization\").to(device),\n",
    "                                   tokenizer=AutoTokenizer.from_pretrained(\"jihyoung/rebot-summarization\"), device=0)"
   ]
  },
  {
   "cell_type": "code",
   "execution_count": 5,
   "metadata": {},
   "outputs": [
    {
     "data": {
      "text/html": [
       "<div>\n",
       "<style scoped>\n",
       "    .dataframe tbody tr th:only-of-type {\n",
       "        vertical-align: middle;\n",
       "    }\n",
       "\n",
       "    .dataframe tbody tr th {\n",
       "        vertical-align: top;\n",
       "    }\n",
       "\n",
       "    .dataframe thead th {\n",
       "        text-align: right;\n",
       "    }\n",
       "</style>\n",
       "<table border=\"1\" class=\"dataframe\">\n",
       "  <thead>\n",
       "    <tr style=\"text-align: right;\">\n",
       "      <th></th>\n",
       "      <th>input</th>\n",
       "    </tr>\n",
       "  </thead>\n",
       "  <tbody>\n",
       "    <tr>\n",
       "      <th>0</th>\n",
       "      <td>```\\nDialogue Session #3:\\nDoctor:Hello Patien...</td>\n",
       "    </tr>\n",
       "    <tr>\n",
       "      <th>1</th>\n",
       "      <td>```\\nDialogue Session #3:\\nNeighbors A:Hey the...</td>\n",
       "    </tr>\n",
       "    <tr>\n",
       "      <th>2</th>\n",
       "      <td>```\\nDialogue Session #4:\\nCo-workers A:Hey, B...</td>\n",
       "    </tr>\n",
       "    <tr>\n",
       "      <th>3</th>\n",
       "      <td>```\\nDialogue Session #2:\\nMentee:Mentor, I ha...</td>\n",
       "    </tr>\n",
       "    <tr>\n",
       "      <th>4</th>\n",
       "      <td>```\\nDialogue Session #5:\\nClassmates A:Sorry ...</td>\n",
       "    </tr>\n",
       "    <tr>\n",
       "      <th>...</th>\n",
       "      <td>...</td>\n",
       "    </tr>\n",
       "    <tr>\n",
       "      <th>75</th>\n",
       "      <td>```\\nDialogue Session #4:\\nHusband:You know wh...</td>\n",
       "    </tr>\n",
       "    <tr>\n",
       "      <th>76</th>\n",
       "      <td>```\\nDialogue Session #4:\\nClassmates B:Hey, C...</td>\n",
       "    </tr>\n",
       "    <tr>\n",
       "      <th>77</th>\n",
       "      <td>```\\nDialogue Session #3:\\nClassmates A:I've b...</td>\n",
       "    </tr>\n",
       "    <tr>\n",
       "      <th>78</th>\n",
       "      <td>```\\nDialogue Session #2:\\nHusband:I found a s...</td>\n",
       "    </tr>\n",
       "    <tr>\n",
       "      <th>79</th>\n",
       "      <td>```\\nDialogue Session #2:\\nPatient:Thank you s...</td>\n",
       "    </tr>\n",
       "  </tbody>\n",
       "</table>\n",
       "<p>80 rows × 1 columns</p>\n",
       "</div>"
      ],
      "text/plain": [
       "                                                input\n",
       "0   ```\\nDialogue Session #3:\\nDoctor:Hello Patien...\n",
       "1   ```\\nDialogue Session #3:\\nNeighbors A:Hey the...\n",
       "2   ```\\nDialogue Session #4:\\nCo-workers A:Hey, B...\n",
       "3   ```\\nDialogue Session #2:\\nMentee:Mentor, I ha...\n",
       "4   ```\\nDialogue Session #5:\\nClassmates A:Sorry ...\n",
       "..                                                ...\n",
       "75  ```\\nDialogue Session #4:\\nHusband:You know wh...\n",
       "76  ```\\nDialogue Session #4:\\nClassmates B:Hey, C...\n",
       "77  ```\\nDialogue Session #3:\\nClassmates A:I've b...\n",
       "78  ```\\nDialogue Session #2:\\nHusband:I found a s...\n",
       "79  ```\\nDialogue Session #2:\\nPatient:Thank you s...\n",
       "\n",
       "[80 rows x 1 columns]"
      ]
     },
     "execution_count": 5,
     "metadata": {},
     "output_type": "execute_result"
    }
   ],
   "source": [
    "dataset = pd.read_json(data_path, lines=True)\n",
    "dataset"
   ]
  },
  {
   "cell_type": "code",
   "execution_count": 6,
   "metadata": {},
   "outputs": [
    {
     "data": {
      "text/plain": [
       "BartTokenizer(name_or_path='jihyoung/rebot-generation', vocab_size=50265, model_max_length=1024, is_fast=False, padding_side='right', truncation_side='left', special_tokens={'bos_token': '<s>', 'eos_token': '</s>', 'unk_token': '<unk>', 'sep_token': '</s>', 'pad_token': '<pad>', 'cls_token': '<s>', 'mask_token': '<mask>'}, clean_up_tokenization_spaces=True),  added_tokens_decoder={\n",
       "\t0: AddedToken(\"<s>\", rstrip=False, lstrip=False, single_word=False, normalized=False, special=True),\n",
       "\t1: AddedToken(\"<pad>\", rstrip=False, lstrip=False, single_word=False, normalized=False, special=True),\n",
       "\t2: AddedToken(\"</s>\", rstrip=False, lstrip=False, single_word=False, normalized=False, special=True),\n",
       "\t3: AddedToken(\"<unk>\", rstrip=False, lstrip=False, single_word=False, normalized=False, special=True),\n",
       "\t50264: AddedToken(\"<mask>\", rstrip=False, lstrip=True, single_word=False, normalized=False, special=True),\n",
       "}"
      ]
     },
     "execution_count": 6,
     "metadata": {},
     "output_type": "execute_result"
    }
   ],
   "source": [
    "tokenizer = AutoTokenizer.from_pretrained(model_name, truncation_side='left', use_fast=False)\n",
    "# tokenizer.add_special_tokens({'bos_token': '<s>', 'eos_token': '</s>', 'unk_token': '<unk>', 'pad_token': '</s>'})\n",
    "tokenizer"
   ]
  },
  {
   "cell_type": "code",
   "execution_count": 7,
   "metadata": {},
   "outputs": [
    {
     "data": {
      "text/plain": [
       "[\"<Doctor>Hello Patient, how can I assist you today? <Patient>Hi Doctor, I've been thinking of traveling to a new destination. <Doctor>That sounds like a great idea. Have you decided on where you want to go? <Patient>I haven't decided yet, but I'm looking for recommendations. <Doctor>Well, I recently went to Japan and it was a wonderful experience. The culture, food, and people were amazing. <Patient>That sounds interesting. How was the travel experience for you? <Doctor>It was a long flight, but I made sure to stay hydrated and take breaks to stretch. Have you traveled internationally before? <Patient>Yes, a few years ago I went to Europe. <Doctor>That's great. Did you have any issues with your health during that trip? <Patient>No, everything was fine. Although, I did experience some jet lag when I arrived back home. <Doctor> ###\"]"
      ]
     },
     "execution_count": 7,
     "metadata": {},
     "output_type": "execute_result"
    }
   ],
   "source": [
    "import re\n",
    "dataset['prep_input'] = dataset['input'].map(lambda x: '```'+ '```'.join(x.split('```')[1:-1]) +'```')\n",
    "text_list = dataset['prep_input'][0].split('Dialogue Session #')[1:]\n",
    "result_list = [re.sub(r'^\\d+:\\s*', '', line) for line in text_list] # #1 숫자 제거\n",
    "result_list = [re.sub(r'(\\b[^\\s:]+):', r'<\\1>', line) for line in result_list] # : -> <> 형식 변경\n",
    "result_list = [line.replace('\\n', ' ').replace('```', '').strip() for line in result_list] # 불필요 개행문자, 공백제거\n",
    "result_list"
   ]
  },
  {
   "cell_type": "code",
   "execution_count": 8,
   "metadata": {},
   "outputs": [
    {
     "name": "stdout",
     "output_type": "stream",
     "text": [
      "input_text: <relationship> Speaker A and Speaker B [now] <Doctor>Hello Patient, how can I assist you today? <Patient>Hi Doctor, I've been thinking of traveling to a new destination. <Doctor>That sounds like a great idea. Have you decided on where you want to go? <Patient>I haven't decided yet, but I'm looking for recommendations. <Doctor>Well, I recently went to Japan and it was a wonderful experience. The culture, food, and people were amazing. <Patient>That sounds interesting. How was the travel experience for you? <Doctor>It was a long flight, but I made sure to stay hydrated and take breaks to stretch. Have you traveled internationally before? <Patient>Yes, a few years ago I went to Europe. <Doctor>That's great. Did you have any issues with your health during that trip? <Patient>No, everything was fine. Although, I did experience some jet lag when I arrived back home. <Doctor>\n",
      "input_text: <relationship> Speaker A and Speaker B [now] Neighbors <A>Hey there, have you ever considered pursuing journalism as a career? Neighbors <B>Journalism? No, not really. Why do you ask? Neighbors <A>\n",
      "input_text: <relationship> Speaker A and Speaker B [now] Co-workers <A>Hey, B, I wanted to apologize again for asking about your wife. I didn't realize she had just passed away. Co-workers <B>It's okay, A. I know you didn't mean any harm. It's just been tough adjusting to life without her. Co-workers <A>Yeah, I can imagine. I lost my dad a few years ago and it still feels like yesterday sometimes. Co-workers <B>I'm sorry to hear that, A. It's never easy losing a loved one. Co-workers <A>No, it's not. But I learned a lot about appreciating the people in my life while I had them, and that's something I try to remember every day. Co-workers <B>\n",
      "input_text: <relationship> Speaker A and Speaker B [now] <Mentee>Mentor, I had a conversation with personY today. He seems to be going through a tough time and is feeling quite hopeless. But I told him that it's never too late to turn his life around and make something of himself.  <Mentor>That's a great attitude, Mentee. I'm glad you were able to offer some words of encouragement to personY. It's important to remember that everyone goes through tough times, but it's how we handle those tough times that defines us. <Mentee>\n",
      "input_text: <relationship> Speaker A and Speaker B [now] Classmates <A>Sorry to cover my face while taking your photo, but I have to be cautious. I'm actually a fugitive on the run. Classmates <B>What?! You're a fugitive? How did that happen? Classmates <A>It's a long story, but let's just say the government wronged me and I had to run. Photography is actually one way I get my revenge. Classmates <B>That's intense. Are you okay? Do you need any help? Classmates <A>I'm good, thanks for asking. It's been a while since I've talked about it, but I'm careful and keep a low profile. How about you? Any updates in your life? Classmates <B>Not much, just trying to finish up a project at work. But now I'm curious about your story. Can you tell me more about what happened? Classmates <A>It's a complicated story, but I can share it with you sometime. For now, let's just enjoy our time together. Remember the time I helped you with your math homework? That was a good memory. Classmates <B>\n",
      "input_text: <relationship> Speaker A and Speaker B [now] Neighbors <A>I just can't seem to find a solution to this problem. It's been bothering me for days. Neighbors <B>What's going on, is it something I can help with? Neighbors <A>It's not something you can fix, unfortunately. I just can't figure out what to do. Neighbors <B>Well, do you want to talk it out? Sometimes just vocalizing the problem can help you see it from a different perspective. Neighbors <A>That's a good idea. So, I'm trying to find a solution to this issue at work, but I can't seem to think of anything that will work. Neighbors <B>What kind of issue is it? Maybe I can help brainstorm some ideas. Neighbors <A>It's a project that's been stalled for a while now, and I feel like we're not making any progress. Neighbors <B>Have you tried bringing in some fresh eyes to take a look at it? Sometimes a new perspective can shift the entire project in a new direction. Neighbors <A>That's a good point. Maybe I should try bringing in some outside consultants. Neighbors <B>Exactly! It sounds like you just needed someone to bounce ideas off of. Neighbors <A>Yeah, you're right. Thanks for your help, as always.  Neighbors <B>Anytime, happy to be of assistance. Speaking of problem-solving, did you ever get that leak in your kitchen fixed? Neighbors <A>\n",
      "input_text: <relationship> Speaker A and Speaker B [now] Neighbors <A>Hey, do you mind if I grab a towel from the rack? I just washed my hands. Neighbors <B>Oh, sure thing. Help yourself. Neighbors <A>Thanks. So, how have you been doing lately? Neighbors <B>Pretty good, thanks for asking. Just trying to keep busy with work and stuff. Neighbors <A>Yeah, I hear you. Speaking of work, I remember when I went on that business trip a few years ago. It was such a great experience. I felt so independent and capable. Neighbors <B>That's awesome. Where did you go again? Neighbors <A>I went to Denver for a conference. It was my first time traveling alone, and it was a bit nerve-wracking at first, but I ended up having a great time. Neighbors <B>That sounds like a really great experience. I haven't traveled in a while, but I remember going to Thailand a few years ago. It was amazing to experience a new culture and try all the different foods. Neighbors <A>Oh wow, that sounds incredible. I would love to travel to Thailand someday. Neighbors <B>Yeah, it was definitely a trip to remember. By the way, did you hear about the homeless shelter that opened up downtown recently? Neighbors <A>No, I hadn't heard about that. That's great news though. It's always important to have resources for those in need. Neighbors <B>\n",
      "input_text: <relationship> Speaker A and Speaker B [now] Neighbors <A>Hey there, I wanted to share some exciting news with you. Neighbors <B>Sure, what's up? Neighbors <A>My novel is finally finished and I found a publisher to help me get it out there. Neighbors <B>That's fantastic, congratulations! What's your novel about? Neighbors <A>It's a romance story that takes place in a rural town. The main character is torn between her love for the town and her desire to pursue her dreams in the city. Neighbors <B>That sounds really interesting. I'm looking forward to reading it. Have you had any other writing projects recently? Neighbors <A>\n",
      "input_text: <relationship> Speaker A and Speaker B [now] Classmates <A>Hey, do you remember that party we went to last weekend? Classmates <B>Yeah, it was pretty fun. What's up? Classmates <A>Well, I met someone there. Her name is Classmates B, and I really like her. Classmates <B>Oh yeah? What happened? Classmates <A>We talked for a bit and I asked for her number. She seemed interested and gave it to me. Classmates <B>That's great! Have you guys talked since then? Classmates <A>Yeah, we've been talking and I'm really excited to see where it goes. Classmates <B>I'm happy for you. Just make sure you're honest with her and treat her right. Classmates <A>\n",
      "input_text: <relationship> Speaker A and Speaker B [now] <Athlete>Coach, check out this map of our planned route. I think we're all set for our upcoming road trip. <Coach>Let me take a look. Hmm, this looks like a good route. Did you plan it all out yourself? <Athlete>Yes, I did. I like to be in control of things like this, you know? <Coach>I know what you mean. Your determination has always been one of your strengths. <Athlete>Thanks, Coach. Speaking of strengths, I've been working on improving my reading skills by reading a variety of books. Remember when we talked about that a few days after I won that challenge? <Coach>Of course, I do. That's great to hear. Did you learn anything new from the books you've read recently? <Athlete>\n",
      "input_text: <relationship> Speaker A and Speaker B [now] Neighbors <A>I've noticed that you've been reading a lot lately. Neighbors <B>Yeah, I've been trying to get through this book series, it's really great. Neighbors <A>I feel like you're always reading though. You haven't really had time for us to spend together. Neighbors <B>I'm sorry, I didn't realize it was bothering you. Neighbors <A>It's just that I want to spend time with you too. Maybe we could read together or something? Neighbors <B>That's a good idea. We could start a book club or something. Neighbors <A>\n",
      "input_text: <relationship> Speaker A and Speaker B [now] Neighbors <A>I'm excited about my new role as the boss. I'm hoping to find some hard-working and reliable employees. Neighbors <B>\n",
      "input_text: <relationship> Speaker A and Speaker B [now] <Patient>Doctor, I wanted to talk to you about something that happened in my class today. <Doctor>Sure, what happened? <Patient>My teacher gave me a seat in the class because she thought I would be a good addition to the class. And I have to say, she was right. I have been enjoying the class and have made some good friends. <Doctor>\n",
      "input_text: <relationship> Speaker A and Speaker B [now] <Patient> I just wanted to share some good news with you. My marriage has never been better. My husband and I have been working on communication and intimacy, and it's made a huge difference. <Doctor> That's great to hear! I'm glad to see you're making progress in your personal life. How did you and your husband start working on these things? <Patient> It was actually your advice about communication that got us started. And then we went to counseling to work on our intimacy issues. <Doctor> I'm glad I could help in some way. It's important for couples to work on their communication and intimacy to maintain a healthy relationship. <Patient> Definitely. And it's made me realize how important it is to have a strong support system, like you as my doctor. I feel secure because I know I can talk to you about anything. <Doctor> I'm happy to be here for you, patient. It's important for your overall health and well-being to have a support system you can count on. It's been a few years since we last talked about your skills and abilities. How have you been doing in that area? <Patient> I've actually been using my skills a lot. I started working part-time in a clinic and I love it. I'm really grateful for the confidence you gave me to pursue this career. <Doctor> That's wonderful to hear! I always knew you had the potential to succeed in this field. It's great that you're putting your skills to use and making a difference in people's lives. <Patient>\n",
      "input_text: <relationship> Speaker A and Speaker B [now] Classmates <A>Hey, Classmates B! I wanted to ask for your advice on how to be a better person. Classmates <B>Of course, I'm happy to help. What specifically are you struggling with? Classmates <A>I just feel like I could be doing more to contribute to the world and make a positive impact. What do you suggest? Classmates <B>Well, one thing that has helped me is meditation. It can help you clear your mind and focus on your intentions. Plus, it's a great way to reduce stress and anxiety. Classmates <A>Interesting, I've never tried meditation before. What else do you recommend? Classmates <B>\n",
      "input_text: <relationship> Speaker A and Speaker B [now] Classmates <A>I'm really sorry about your clothes, B. I didn't mean to burn them. Classmates <B>How could you not mean to burn my favorite clothes?! They were hanging right there! Classmates <A>I know, and I feel terrible about it. Is there anything I can do to make it up to you? Classmates <B>I don't know, A. That was a really expensive outfit, and now it's ruined. Classmates <A>I'll buy you a new outfit, whatever you want. Classmates <B>It's not just about the money, A. You ruined something that was really important to me. Classmates <A>\n",
      "input_text: <relationship> Speaker A and Speaker B [now] Classmates <A>Ugh, I hate finals week. I feel like all I'm doing is studying. Classmates <B>Yeah, it can be brutal, but you got this. I know you're putting in the work. Classmates <A>I just want to do well so I can get a good grade in the class. I don't want to have to take it again. Classmates <B>I hear that. But don't worry, I think you're going to do great. You're always so on top of things. Classmates <A>\n",
      "input_text: <relationship> Speaker A and Speaker B [now] <Mentee>Hey Mentor, do you remember the last time we talked about my taking over the family business? <Mentor>Of course, Mentee. It was a few months after you had just begun overseeing the operations. How are things going now? <Mentee>Things are going great, actually. I feel so much more in control of my life now that I have a purpose and satisfaction from running the company. <Mentor>I'm so happy to hear that, Mentee. It's always a great feeling to have control over something that you're passionate about. <Mentee>Speaking of passion, I wanted to talk to you about something that I recently discovered about you. You love music just like me, and we both enjoy going to concerts. I also found out that you love to read. As you know, I'm an avid reader. So, I thought I could recommend some books to you. <Mentor>That's great to hear, Mentee. I'm always looking for new books to read, and it's nice to know that you're interested in my interests as well. Do you have any recommendations for me right now? <Mentee>\n",
      "input_text: <relationship> Speaker A and Speaker B [now] <Husband>Do you remember when I told you about how I found an octopus in the ocean during our exploration? <Wife>Of course, I remember. You talked about it for days, and I even saw the pictures you took. <Husband>Well, that was nothing compared to how I felt when I met you for the first time. I knew right away that I had found the love of my life. <Wife>Aww, that's so sweet. I have to admit that I felt the same way. You swept me off my feet with your charm and sense of humor. <Husband>And now, here we are, happily married with two beautiful children. <Wife>\n",
      "input_text: <relationship> Speaker A and Speaker B [now] Classmates <A>Hey, have you heard? I'm planning a surprise birthday party for myself! Classmates <B>Oh wow! That sounds like a lot of fun! When is it going to be? Classmates <A>It's going to be next Friday. I'm really excited about it, but I'm also pretty nervous. I hope everyone can make it. Classmates <B>Of course everyone's going to make it! It's your party after all. Have you picked a venue? Classmates <A>Yeah, it's going to be at this new lounge that just opened up downtown. It's got a really cool vibe and I think everyone will love it. Classmates <B>That sounds like a great spot! I can't wait for the party and to celebrate another year of your life.  Classmates <A>Thanks, I really appreciate that. I've been feeling grateful for the people in my life lately, so I think it's going to be a really special night. Classmates <B>\n",
      "input_text: <relationship> Speaker A and Speaker B [now] Neighbors <A>So, I joined a sports team at the center last week and I've been practicing every day. Neighbors <B>That's great! What sport are you playing? Neighbors <A>Basketball. The coach is really helpful and I've improved a lot. Neighbors <B>That's awesome! You must have great stamina. Neighbors <A>Well, I'm getting there. I used to get tired easily, but now I can run for longer periods. Neighbors <B>That's really impressive. You're really committed to this. Neighbors <A>\n",
      "input_text: <relationship> Speaker A and Speaker B [now] <Patient>Doctor, I know very well what I want in life. I have always been very clear about my goals and ambitions, and I have never wavered in my determination to achieve them. <Doctor>\n",
      "input_text: <relationship> Speaker A and Speaker B [now] <Student>Ok, so let's start by selecting the right ingredients for the recipe. We need some flour, sugar, eggs, and butter. <Teacher>Great, do we have everything we need? <Student>Yes, we do. Now, we need to mix the flour and sugar together in a bowl. <Teacher>How much of each do we need? <Student>We need one and a half cups of flour and one cup of sugar. Mix them well. <Teacher>Alright, done. What's next? <Student>Now, we need to add the butter and eggs to the mixture. We need two eggs and half a cup of butter. <Teacher>Do we need to beat the eggs first? <Student>Yes, we do. Beat the eggs and then mix them with the flour and sugar mixture. <Teacher>Got it. What's next? <Student>We need to preheat the oven to 375 degrees Fahrenheit. And then, we need to place the mixture in the oven for 25-30 minutes. <Teacher>This is fun. I feel like I'm learning a lot. <Student>I'm glad you think so. It's always fun to teach someone something new. <Teacher>Hey, speaking of learning something new, remember when we wrote that song together? <Student>Of course, I do! That was so much fun. <Teacher>Do you think we could write another song together sometime soon? <Student>Absolutely. I was hoping you'd ask. How about we make it a goal to write a new song by the end of this month? <Teacher>That sounds like a plan. I'm already excited to start working on it.  <Student>\n",
      "input_text: <relationship> Speaker A and Speaker B [now] Neighbors <A>Hey, Neighbor B! I just wanted to invite you to my birthday party this weekend. Neighbors <B>Oh, wow! Thanks for inviting me, Neighbor A. Neighbors <A>Of course, I hope you can make it. It's gonna be a small gathering, but it should be fun. Neighbors <B>Yeah, I'll try my best to make it. Thanks for thinking of me. Neighbors <A>No problem at all. It's the least I can do since you've been such a great neighbor. Neighbors <B>Speaking of being a good neighbor, did you ever find out who was following you that one time? Neighbors <A>No, I never did. But I'm just glad I made it home safe. It was really scary. Neighbors <B>Yeah, I can imagine. I always try to be careful when I'm out and about. You never know who's out there. Neighbors <A>\n",
      "input_text: <relationship> Speaker A and Speaker B [now] <Parent>I'm glad I could help you fix your motorbike, Child. <Child>Yeah, thanks mom. You're really good at fixing things. <Parent>Well, I used to be a mechanic before I had you, so it's nice to put those skills to use again. <Child>That's really cool. You can fix almost anything. <Parent>\n",
      "input_text: <relationship> Speaker A and Speaker B [now] Classmates <A>, I have to say, your painting is really impressive. The colors you used are so vibrant and they really pop. Classmates <B>Thank you so much,! I worked really hard on it and I'm glad it shows. Classmates <A>It definitely shows. You are such a talented artist. Classmates <B>Coming from you, that means a lot. I remember when you organized that charity auction a few years back. You raised so much money for a great cause. Classmates <A>\n",
      "input_text: <relationship> Speaker A and Speaker B [now] <Mentee>Mentor, I finally did it! I wrote a book about my life as a vampire and it's a bestseller! <Mentor>Wow, Mentee! That's amazing news! Congratulations! I'm so proud of you for taking control of your life and pursuing your dreams. <Mentee>Thank you so much, Mentor. It was a long and challenging process, but it was worth it. I never thought I could achieve something like this. <Mentor>\n",
      "input_text: <relationship> Speaker A and Speaker B [now] Classmates <A>Hey, did you see the state championship game? We won! Classmates <B>Oh my gosh, congratulations! You guys must be thrilled. Classmates <A>Yeah, it was an amazing experience. I never thought we would make it this far. Classmates <B>I bet it was a lot of hard work. Classmates <A>Definitely. We had to practice every day and put in a lot of extra hours. But it was worth it in the end. Classmates <B>I can imagine. It must feel great to have accomplished something so big. Classmates <A>It does. It's a good feeling to know that all our hard work paid off. Classmates <B>It's always great to see hard work pay off. Speaking of hard work, how have you been doing since we last talked about your depression? Classmates <A>I've been doing better. I started seeing a therapist and it's really helped me work through some things. It's still a struggle sometimes, but I'm in a much better place now. Classmates <B>That's amazing to hear. I'm so proud of you for taking that step. Classmates <A>\n",
      "input_text: <relationship> Speaker A and Speaker B [now] Co-workers <A>Hey, have I told you that I joined an animal rights group recently? Co-workers <B>No, you haven't mentioned it before. What made you decide to join? Co-workers <A>Well, I've always loved animals, and it breaks my heart to see them mistreated. I wanted to do something to help them and make a difference. Co-workers <B>That's really admirable. What kind of work are you doing for the group? Co-workers <A>Right now, I'm mostly spreading awareness about animal cruelty and encouraging people to adopt animals from shelters instead of buying from breeders. But I hope to get more involved in rescue efforts and rehabilitation programs in the future. Co-workers <B>That's great. It's always nice to see people working towards a cause they're passionate about. Co-workers <A>\n",
      "input_text: <relationship> Speaker A and Speaker B [now] Neighbors <A>I'm so excited that my restaurant is finally up and running. Neighbors <B>That's great news! I'm happy for you. What kind of food do you serve? Neighbors <A>It's a fusion restaurant, with a mix of Asian and Latin flavors. I think people will really enjoy the unique combination. Neighbors <B>Sounds delicious. Have you thought about hosting any events or specials to attract more customers? Neighbors <A>Yes, I'm planning on having a Valentine's Day special for couples. It's going to be a romantic evening with a special prix-fixe menu. Neighbors <B>\n",
      "input_text: <relationship> Speaker A and Speaker B [now] Classmates <A>, I just finished the play and the director was incredibly impressed with my performance. Classmates <B>That's amazing,! You must feel so proud. Classmates <A>I do! It was such a challenging role, but I put in a lot of hard work and dedication. Classmates <B>I remember you telling me a couple of years ago that you wanted to be a star and move to Los Angeles. Do you still have those aspirations? Classmates <A>Yes, I do. Performing in this play just solidified my passion for acting. Classmates <B>Well, I believe in you. You have the talent and the drive to make it in Hollywood. Classmates <A>Thank you,. It means a lot to have your support. Classmates <B>Of course! And speaking of support, how about that date we went on a few years ago? Classmates <A>(laughs) Oh, don't remind me. I was so nervous when I asked you out and you turned me down. Classmates <B>I'm sorry about that. But I'm glad we can still be friends and support each other's dreams. Classmates <A>Me too,. Who knows, maybe one day you'll see me on the big screen and you can say, \"I knew her when. Classmates <B>\n",
      "input_text: <relationship> Speaker A and Speaker B [now] Co-workers <A>Hey, have you read my book yet? Co-workers <B>Your book? What book are you talking about? Co-workers <A>The one I mentioned a few weeks ago. The one about my life and how I overcame challenges. Co-workers <B>Oh, right! No, I haven't had a chance to read it yet. How was the writing process? Co-workers <A>It was tough, but really fulfilling. I felt so accomplished when it was done. Co-workers <B>That's great! I bet it feels amazing to have your story out there for others to read. Co-workers <A>It really does. It was a lot of work, but I think it's important to share our experiences with others. It can help inspire them to overcome their own challenges. Co-workers <B>I completely agree. You've always been such an inspiration to everyone here with your positive attitude and determination. Co-workers <A>\n",
      "input_text: <relationship> Speaker A and Speaker B [now] Co-workers <A>I really want to try going online. I want to be able to connect with my friends from different countries and learn about other cultures. Co-workers <B>That sounds like a great idea! The internet can definitely help you do that. Co-workers <A>Yeah, and it will be so much easier to access information too. Co-workers <B>Definitely. Speaking of accessing information, do you remember when you borrowed that videocassette a couple of years ago and forgot to return it? It's important to be responsible and follow through on our commitments. Co-workers <A>Oh, yes. I felt so bad about that. But I returned it as soon as I remembered. It's important to own up to our mistakes and make things right. Co-workers <B>That's true. And speaking of mistakes, I know I was pretty rude and disrespectful to some people in the past. I've been trying to work on that and be more conscious of my behavior. Co-workers <A>I'm glad you're making an effort to improve. I was really horrified by your behavior and it made me question why I ever liked you as a co-worker. Co-workers <B>I understand and I'm sorry for my past actions. It's important for us to learn from our mistakes and become better people. So going back to the internet, have you already started researching about different cultures? Co-workers <A>Not yet, but I plan to start soon. There's so much to learn and I can't wait to broaden my perspective. Co-workers <B>\n",
      "input_text: <relationship> Speaker A and Speaker B [now] Classmates <A>I've been running and playing tennis a lot lately. It's really helping me stay in shape. Classmates <B>That's great! I'm trying to get more exercise too. What inspired you to start running and playing tennis? Classmates <A>Well, I've always liked sports and being active. When I was younger, I played a lot of soccer and basketball. But as I got older, I started to enjoy running more because it's something I can do on my own. And tennis is just a lot of fun to play with friends. Classmates <B>I know what you mean. I used to play soccer too, but lately, I've been getting into golf. It's a different kind of challenge. Classmates <A>Yeah, I've never been much of a golfer, but I can see how it could be fun. Do you have any tips for getting into a new sport? Classmates <B>Definitely. I think the most important thing is to find something that you enjoy. If you're not having fun, it's not going to be motivating to keep practicing and improving. And then just start small - you don't need to be a pro right away. Take some lessons or join a beginner's league to get started. Classmates <A>\n",
      "input_text: <relationship> Speaker A and Speaker B [now] Neighbors <A>I gave some candy to a child earlier today. Neighbors <B>That's really nice of you. How did the child react? Neighbors <A>The child was really happy and thanked me. It made me feel good too. Neighbors <B>It's always a great feeling to make someone else happy. Neighbors <A>\n",
      "input_text: <relationship> Speaker A and Speaker B [now] <Husband>I'm so glad I was able to get you this little home, my love. It's not much, but I hope you like it. <Wife>I love it, dear. Thank you so much. It's cozy and just perfect for me. <Husband>\n",
      "input_text: <relationship> Speaker A and Speaker B [now] <Husband>I can't believe I had to take a job at the grocery store. It's so humiliating. <Wife>Don't say that, honey. There's no shame in working hard to support your family. <Husband>I know, but I never thought I would end up working at a grocery store. I applied for so many jobs, and no one else would hire me. <Wife>It's okay, at least you have a job now and can provide for us. Plus, who knows? Maybe you'll enjoy working there. <Husband>I highly doubt it. It's minimum wage, and the customers can be so rude. <Wife>\n",
      "input_text: <relationship> Speaker A and Speaker B [now] Classmates <A>Look, I'm sorry I tased you in the leg. I was just really angry that you won the race. Classmates <B>Are you kidding me? You could have seriously hurt me with that thing! Classmates <A>I know, I know. And I feel terrible about it. I just let my emotions get the best of me. Classmates <B>This isn't the first time you've let your emotions get out of control. Remember when you tried to pay me off so I wouldn't sue you for plagiarism? Classmates <A>Yeah, I remember. And I'm still sorry about that too. I was just so scared of getting in trouble. Classmates <B>It's not okay to try to buy someone's silence, especially when you know you did something wrong. And it's definitely not okay to physically harm someone just because you're upset. Classmates <A>I know, and I promise I'll work on controlling my emotions better in the future. Can you forgive me? Classmates <B>\n",
      "input_text: <relationship> Speaker A and Speaker B [now] Classmates <A>, have you ever had too much to drink at a party? Classmates <B>Yeah, I have. It's not a good feeling. Classmates <A>I know, last night I drank too much wine at my friend's party and ended up feeling dizzy and sick. Classmates <B>Oh no, I'm sorry to hear that. Do you need anything? Water or medicine? Classmates <A>No, I'm okay now, but I spent the rest of the night sitting on the bathroom floor, wishing I could just go to sleep and forget about the embarrassing evening. Classmates <B>Yeah, I've been there before. It's not worth it to drink too much and end up feeling like that. Classmates <A>I know, I should have been more responsible. Have you ever had a similar experience? Classmates <B>Yeah, a few times. But it's important to learn from our mistakes and not repeat them. Classmates <A>You're right. Talking about mistakes, I remember when we were discussing how I usually look for a hint of what the answer might be when trying to solve a problem. Classmates <B>Yeah, that can be a helpful approach. It's good to examine the problem carefully and look for any small clue that could help you find a solution. Classmates <A>Definitely. And speaking of different topics, remember when we talked about how much I love wrestling and going to live matches? Classmates <B>\n",
      "input_text: <relationship> Speaker A and Speaker B [now] Co-workers <A>Hey, how's it going? Co-workers <B>Oh my gosh, thank you so much for saving me earlier. I don't know what I would have done without your quick reflexes. Co-workers <A>Of course! I'm just glad I was in the right place at the right time. What happened? Co-workers <B>I was carrying a bunch of files and I tripped over my own feet. I didn't even realize I was about to fall until you grabbed onto me. Co-workers <A>Well, I'm just glad you're okay. Are you hurt? Co-workers <B>No, no, I'm fine. Just a little shaken up, but nothing serious. Thanks again for being there. Co-workers <A>\n",
      "input_text: <relationship> Speaker A and Speaker B [now] <Patient>Doctor, have you ever felt inspired by something in nature? <Doctor>Of course, nature can be incredibly inspiring. What spurred this question? <Patient>Well, I was walking through a garden earlier today and I was struck by the beauty of the roses. The colors and textures were so vibrant and I felt this sudden urge to create something beautiful. <Doctor>That's amazing. Have you considered exploring your creativity further? <Patient>Actually, I have been thinking about it. I used to love painting and drawing, but I haven't done anything artistic in years. <Doctor>It sounds like it might be time to revisit those hobbies. Engaging in creative activities can be a great way to reduce stress and promote mental well-being. <Patient>That's a good point. I remember feeling so calm and peaceful when I was in the midst of creating something. Maybe I should make a plan to start painting or drawing again. <Doctor>Absolutely. And if you find that you're struggling to get started, we can work together to come up with some strategies for overcoming any creative blocks you might be experiencing. <Patient>That would be great. It's funny how something as simple as a garden can inspire so much positivity and growth. <Doctor>It truly is. And speaking of growth, do you remember the conversation we had a while back about setting fitness goals? <Patient>Yes, I do. I wanted to run faster but ended up having to slow down. <Doctor>\n",
      "input_text: <relationship> Speaker A and Speaker B [now] <Mentee>I always feel like I have to fix everything that's broken. It's just something I can't help. <Mentor>That can be a really positive trait, Mentee. It shows that you have a strong sense of responsibility and a desire to make things better. <Mentee>I just don't like seeing things not working properly, you know? It bothers me. <Mentor>I understand that feeling. But sometimes, it's important to step back and assess whether you're the right person to fix the situation. Sometimes, it's better to ask for help or delegate tasks to others who are better suited to the job. <Mentee>That's true. I guess I just feel like I have to take control and handle everything myself. <Mentor>It's okay to ask for help or take a step back when things become overwhelming. You don't have to fix everything on your own. <Mentee>I'll definitely keep that in mind. Thanks for the advice, Mentor. <Mentor>\n",
      "input_text: <relationship> Speaker A and Speaker B [now] <Parent> I wanted to talk to you about something today. I've been thinking a lot about how important it is to be inclusive, especially in school. <Child> What do you mean by that? <Parent>Well, I believe that everyone should have the opportunity to learn and grow, regardless of their background or ability level. It's important to be accepting and welcoming to all students. <Child>I totally agree. I remember you talking about how you never felt left out in school because your classmates were always inclusive and kind to you. <Parent>Yes, that's true. And I want to make sure that other students have that same experience. It's not just about being nice, it's about creating an environment where everyone feels valued and respected. <Child>I think that's really important. And it's not just about school, it's something we should strive for in all areas of our lives. <Parent>Absolutely. It's about being kind and understanding towards others, and recognizing the value that each person brings to the table. <Child>\n",
      "input_text: <relationship> Speaker A and Speaker B [now] <Mentee>Hey Mentor, thanks for giving me a ride home the other night. I really appreciated it. <Mentor>Of course, Mentee. I'm always happy to help out when I can. Did you have a good time at wherever you were? <Mentee>Yeah, it was a lot of fun. But I didn't want to walk home alone in the dark. Especially since it's getting colder and darker earlier now. <Mentor>I understand. Safety is always a priority, and it's better to be safe than sorry. Speaking of being safe, have you had a chance to check out that book you bought from the store? <Mentee>Yes, I have! I started reading it, and it's really interesting so far. It's about a group of adventurers who go on a wild expedition to an uncharted island. <Mentor>That sounds like an exciting read. What do you like most about it? <Mentee>\n",
      "input_text: <relationship> Speaker A and Speaker B [now] <Parent>, I need to talk to you about something important. I've made a big decision and I want you to understand why. <Child>What is it, Parent? <Parent>After years of being a lawyer, I've realized that I've had enough. I can't keep up with the constant stream of cases and clients anymore. So I've quit my job. <Child>What? But why? <Parent>It's just too much,. I need a break from the stress and pressure. I want to explore other options and find something that I'm truly passionate about. <Child>Does that mean we won't have enough money? <Parent>No, we'll be fine. I've planned for this and we have enough savings to support ourselves for a while. Plus, I'll start looking for new job opportunities soon. <Child>Okay, that makes me feel better. But what are you going to do in the meantime? <Parent>I want to take some time for myself and focus on my interests. Maybe take some classes or travel a bit. I just need a change of pace. <Child>\n",
      "input_text: <relationship> Speaker A and Speaker B [now] Neighbors <A>You won't believe what happened to me yesterday. I got lost in the city! Neighbors <B>Oh no, that sounds scary. How did you find your way back? Neighbors <A>It took me hours of wandering around, but eventually, I recognized a landmark and was able to get back home. Neighbors <B>That's fortunate, at least you made it back safely. Neighbors <A>Yeah, I don't think I've ever been that lost before. It was such a relief to finally see a familiar place. Neighbors <B>I can imagine. Reminds me of when I got lost in a big mall once. I thought I was never going to find my way out. Neighbors <A>\n",
      "input_text: <relationship> Speaker A and Speaker B [now] Neighbors <A>Hey neighbor, I just came back from the farmer's market. I bought some fresh apples from the farmer. Neighbors <B>Oh that's great, did you get a good deal? Neighbors <A>Yes, I did. The farmer sold me a basket of apples for a really good price. Neighbors <B>That's awesome. Did you talk to him about any other produce? Neighbors <A>Yes, I was also interested in buying some of his tomatoes and green beans. He told me that they'll be ready for harvest in a couple of weeks. Neighbors <B>Sounds like you'll have some delicious meals coming up soon. Neighbors <A>\n",
      "input_text: <relationship> Speaker A and Speaker B [now] Neighbors <A>Hi there, Neighbors B. I wanted to let you know that I was just elected to a seat in the legislature. Neighbors <B>Wow, that's great news! Congratulations, Neighbors A. Neighbors <A>Thank you, I'm really excited about it. I want to make a difference in my community and this is one way I can do that. Neighbors <B>I have no doubt that you'll do a great job. You've always been thoughtful and organized, and I think those qualities will serve you well in your new position. Neighbors <A>That means a lot coming from you, Neighbors B. I'll do my best to represent our neighborhood and make sure our voices are heard. Neighbors <B>\n",
      "input_text: <relationship> Speaker A and Speaker B [now] <Husband>Hey, can we talk for a bit? I just wanted to have a conversation with you. <Wife>Sure, what's on your mind? <Husband>\n",
      "input_text: <relationship> Speaker A and Speaker B [now] <Husband>Hey, I had a great idea today! <Wife>What's that? <Husband>I came up with a program that helps people learn more efficiently. <Wife>That's wonderful! How does it work? <Husband>It's called the Husband Program, and it's based on the latest research in cognitive science. <Wife>That sounds impressive. How did you come up with it? <Husband>Well, I've always been interested in how the brain works and how we can optimize our learning abilities. So I did some research and put together a program that incorporates the best practices for learning and retention. <Wife>That's amazing, I'm proud of you! <Husband>Thanks, I'm really excited about it. I think it could help a lot of people. <Wife>I'm sure it will. You're so smart, it's great to see you using your intelligence for good. <Husband>Aw, thanks. Speaking of good, I wanted to apologize again for spilling coffee on the computer the other day. I feel terrible about it. <Wife>It's okay, accidents happen. Besides, you've been so busy with your program, I'm sure you just got distracted. <Husband>Yeah, I guess so. But I promise to be more careful in the future. <Wife>I know you will. And while we're talking about being careful, can we also talk about your spending habits? <Husband>What do you mean? <Wife>\n",
      "input_text: <relationship> Speaker A and Speaker B [now] Classmates <A>Hey everyone, check out this new toy my grandma got me!  Classmates <B>Oh, that's so cool! What is it? Classmates <A>It's a remote-controlled car with all these cool features. Look, it can even do flips! Classmates <B>Wow, that's impressive. Did you have to assemble it yourself? Classmates <A>No, thankfully it came pre-assembled. I wouldn't even know where to start. Classmates <B>Haha, I know what you mean. I tried to assemble a model airplane once and it was a disaster.  Classmates <A>Speaking of disasters, have you heard back from that charity event you helped me with last month? Did we raise enough money? Classmates <B>Yes, I just got an update yesterday. We actually exceeded our goal and raised even more money than we expected.  Classmates <A>That's amazing news! I couldn't have done it without your help and support.  Classmates <B>Well, you did all the hard work. I just helped out a little.  Classmates <A>Don't sell yourself short, your contribution was invaluable. You're always such a great friend and you're there for me when I need someone to talk to. Classmates <B>Aww, thank you. I appreciate our friendship too. Is there anything you want to talk about today?  Classmates <A>\n",
      "input_text: <relationship> Speaker A and Speaker B [now] Classmates <A> I just realized that I've been cooped up in my house for days without leaving.  Classmates <B> Really? Have you been okay?  Classmates <A> Yeah, I'm starting to feel stir-crazy. I need to get out of the house ASAP.  Classmates <B> I know what you mean. Sometimes being stuck inside all day can really take a toll on your mental health.  Classmates <A> Exactly. That's why I need to get some fresh air and take a walk.  Classmates <B> That sounds like a great idea. Do you want some company?  Classmates <A> Sure, that would be nice.  Classmates <B> Remember when you helped me navigate my way back home a few weeks ago?  Classmates <A> Yeah, of course.  Classmates <B> That was really kind of you. I felt so lost and vulnerable, but you helped me get back safely.  Classmates <A> I'm just glad that I could help.  Classmates <B> You have such a nurturing personality. Like when you helped me edit my research paper last month, you were so detail-oriented and it really helped improve the quality.  Classmates <A> Thank you for saying that. It means a lot.  Classmates <B> It's true though. You have a talent for helping people. That's why I think you'll make a great monk.  Classmates <A>\n",
      "input_text: <relationship> Speaker A and Speaker B [now] <Mentee>Hey Mentor, I found a nice park nearby, let's go there! <Mentor>Oh that sounds like a fun idea Mentee, what do you want to do at the park? <Mentee>I want you to play on the swings with me! I used to love it when my dad would play with me. <Mentor>Of course Mentee, I would be happy to play on the swings with you. But are you sure that's all you want to do at the park? <Mentee>Yeah, that's all I want to do today. It's a beautiful day outside and I thought it would be a good way to take a break from work and just have some fun. <Mentor>That sounds like a great idea Mentee. It's important to take breaks and do things that make us happy every once in a while. It helps us to recharge and be more productive in the long run. <Mentee>Definitely, that's what you always tell me. And speaking of being productive, do you have any other tips for how I can better prepare for our meetings? <Mentor>\n",
      "input_text: <relationship> Speaker A and Speaker B [now] Neighbors <A>Neighbors B, I need to tell you something. I climbed onto a chair today and felt safe. It might sound silly, but it was a big deal for me. Neighbors <B>I'm glad you feel safe, but why did you have to climb onto a chair? Neighbors <A>There was a spider and it freaked me out. I know it's irrational, but spiders just really scare me. Neighbors <B>Oh, I see. Well, that's understandable. I'm just glad you found a way to feel safe. Neighbors <A>\n",
      "input_text: <relationship> Speaker A and Speaker B [now] Neighbors <A>Hey, neighbor, what's up? Neighbors <B>Not much, how about you? Neighbors <A>I'm trying to write down a list of rules for myself. Neighbors <B>Rules? Like what kind of rules? Neighbors <A>Well, things like 'always be honest', 'work hard', and 'be kind to others'. I want to have a clear set of rules to live by. Neighbors <B>That sounds like a good idea. Setting rules for yourself can help you stay focused and on track. Neighbors <A>Yeah, that's what I'm hoping for. Do you have any rules that you live by? Neighbors <B>Hmm, I guess one of my rules is to always try my best, even if it's something I don't enjoy doing. Another one is to treat others the way I want to be treated. Neighbors <A>Those are great rules. I think it's important to have guidelines for how we want to live our lives. Neighbors <B>Definitely. It's easy to get caught up in the chaos of daily life and forget about our values and priorities. Neighbors <A>That's so true. I just hope I can stick to these rules and make a positive change in my life. Neighbors <B>I'm sure you will. It may take time and practice, but every small step counts. Plus, having someone like me to support you can make a huge difference. Neighbors <A>Thanks, neighbor. I appreciate your encouragement.  Neighbors <B>Anytime, buddy. And hey, remember that time we tried that new food together? That was pretty fun. Neighbors <A>Yeah, it was! That's another rule I should add to the list- try new things and step out of my comfort zone. Neighbors <B>\n",
      "input_text: <relationship> Speaker A and Speaker B [now] Classmates <A>Hey, have you seen this meme? It's hilarious! Classmates <B>No, I haven't. What's so funny about it? Classmates <A>Look at this picture of a cat trying to fit into a small box. It's so relatable! Classmates <B>Haha, I see what you mean. You have a great sense of humor, you always make me laugh. Classmates <A>\n",
      "input_text: <relationship> Speaker A and Speaker B [now] Neighbors <A>I just got back from my trip to a new city and it was amazing! The architecture was stunning, the streets were so clean, and the people were incredibly friendly. Neighbors <B>That's great to hear! What city did you visit? Neighbors <A>I went to Toronto and I was blown away by the beauty of the buildings there. It was also really nice to see how well-maintained everything was. Neighbors <B>I've heard great things about Toronto. Did you have a chance to try any of the local foods? Neighbors <A>Yes, I went to this amazing Italian restaurant that had the most delicious pizza I've ever had. And the best part was that the staff was so welcoming and friendly. Neighbors <B>\n",
      "input_text: <relationship> Speaker A and Speaker B [now] Classmates <A>I'm so frustrated with Classmates A. She just won't listen to me. Classmates <B>What's going on? Classmates <A>I have asked her multiple times to take the garbage out, and she still hasn't done it. Classmates <B>That's not good. Maybe she forgot? Classmates <A>I don't think so. I reminded her this morning, and it's still there. Classmates <B>Well, have you tried talking to her about it? Classmates <A>Yes, but she just ignores me. So, I have decided to punish her by not letting her go out with her friends tonight. Classmates <B>Hmm, that seems like a bit too much. Maybe you should have a conversation and find out why she isn't listening to you. Classmates <A>That's a good point. Maybe I'll try that. By the way, do you remember when I fixed the error in the plans a few weeks ago? Classmates <B>Oh yeah, I remember that. Classmates <A>It was a bit challenging, but I'm glad I caught the mistake before it was too late. Classmates <B>Yeah, it's always important to double-check everything. Hey, speaking of mistakes, do you remember when we talked about my favorite color being green a few months ago? Classmates <A>\n",
      "input_text: <relationship> Speaker A and Speaker B [now] Neighbors <B>Hey, Neighbors A, do you have some time to help me out with my homework? I'm having some trouble with it. Neighbors <A>Of course, Neighbors B. What do you need help with? Neighbors <B>It's an essay on the Civil War, and I'm having trouble finding some information. Neighbors <A>Have you tried looking it up in the library? Neighbors <B>No, I haven't. Do you think they'll have what I need? Neighbors <A>Yeah, they probably will. I remember doing a research paper on that topic myself a few years ago. Just head over to the library and do a quick search. Neighbors <B>Thanks so much, Neighbors A. I'll definitely do that. By the way, how's swimming going? Are you still doing it? Neighbors <A>Actually, I haven't gone in a while. But I still remember everything I learned during the lessons. It's a great skill to have in case of any emergencies. Neighbors <B>\n",
      "input_text: <relationship> Speaker A and Speaker B [now] Neighbors <A>Hey, Neighbor B! How are you doing today? Neighbors <B>I'm good, thanks! How about you? Neighbors <A>I'm a little tired but happy. I just finished repairing the roof. Neighbors <B>That's great! Did you have to replace many tiles?  Neighbors <A>Yeah, a few were broken and needed replacing. And I also had to seal up some cracks. Neighbors <B>I'm sure that was a lot of work. Good thing you're handy with repairs. Neighbors <A>Thank you! It wasn't too bad, but it did take some time.  Neighbors <B>Speaking of time, are you ready to head out to the concert tonight? I can drive us there. Neighbors <A>Actually, I was thinking we should probably take separate cabs to avoid any potential conflicts. Neighbors <B>Huh? What do you mean? Neighbors <A>Well, you know how we sometimes disagree on which routes to take or things like that. I don't want any arguments to ruin our night out. Neighbors <B>Oh, I understand. That's definitely reasonable. I can take a cab then. Neighbors <A>Great. I'll see you there! By the way, I've been trying to eat healthier lately since we talked about that hamburger incident a few weeks ago. Neighbors <B>That's awesome! How's it going so far? Neighbors <A>\n",
      "input_text: <relationship> Speaker A and Speaker B [now] Classmates <A>, that was so much fun! I'm so glad we went out dancing tonight. Classmates <B>I know, right? You're a really good dancer. I had a blast with you. Classmates <A>Thanks! I've been practicing a lot lately. I even took some classes.  Classmates <B>Wow, I can tell. You've definitely got some moves.  Classmates <A>Haha, thanks. You know what, I really appreciate how supportive you are of me.  Classmates <B>Of course, that's what friends are for. Plus, I love seeing you happy and confident.  Classmates <A>\n",
      "input_text: <relationship> Speaker A and Speaker B [now] Classmates <A>You're so hot. Classmates <B>(blushes) Uh, thanks. Classmates <A>(smiling) I couldn't help but notice how good you look today. Classmates <B>(nervously) Uh, I don't know what to say. Classmates <A>(laughs) Don't worry about it. I just wanted to let you know. Classmates <B>(clears throat) So, anyway, what did you want to talk about today? Classmates <A>(still smiling) Actually, I was hoping to continue our discussion about my dream of becoming a writer. Classmates <B>Oh yeah, I remember. So, have you made any progress on your book? Classmates <A>(excitedly) Yes, I actually finished the first draft a few weeks ago! Classmates <B>(impressed) Wow, that's great! Are you planning on publishing it? Classmates <A>(pauses) Well, I still have a lot of editing and revising to do, but eventually, yeah, I would love to get it out there. Classmates <B>(encouragingly) I'm sure it's going to be amazing. What's it about? Classmates <A>(grinning) It's a comedy novel about a dysfunctional family and their crazy antics. Classmates <B>(laughs) That sounds like it'll definitely make people laugh. Classmates <A>\n",
      "input_text: <relationship> Speaker A and Speaker B [now] <Mentee>Hi mentor, I have a small problem. I broke a lamp at my house. <Mentor>Oh no, how did that happen? <Mentee>I accidentally knocked it over while I was cleaning. But don't worry, I went to the store and bought a new lamp to replace it. <Mentor>That's responsible of you to replace it. Did you look for a good deal or did you just buy the first one you saw? <Mentee>I tried to look for a good deal. I didn't want to spend too much money on it. <Mentor>That's a good strategy to have, especially when replacing something that you accidentally broke. It's important to take responsibility for your actions and to make amends when necessary. <Mentee>Thank you, mentor. I also learned my lesson to be more careful around fragile objects. <Mentor>It's good to learn from our mistakes. Do you remember the time when you won a free trip to the Caribbean? <Mentee>Yes, I do. I was so excited to go to the beach and relax for a few days. <Mentor>\n",
      "input_text: <relationship> Speaker A and Speaker B [now] <Husband>Ah, this cool water is exactly what I needed. It feels so good to relax. <Wife>I'm glad you're enjoying it. You've been working so hard lately. <Husband>Yeah, it's been a long couple of weeks. But moments like these make it all worth it. <Wife>Remember when you fell asleep during dinner a while back because you were so exhausted from work? <Husband>Oh yeah, I do remember that. It was embarrassing, but I was just so worn out. <Wife>It's understandable. You work very hard to provide for us. <Husband>Speaking of providing, do you remember when I purchased your car to help you out with your expenses? <Wife>Of course I do. I was struggling to make ends meet and you were so kind to do that for me. <Husband>It was the least I could do. And remember when I left work feeling satisfied after helping a customer? <Wife>\n",
      "input_text: <relationship> Speaker A and Speaker B [now] Classmates <A>, what happened? Are you okay? Classmates <B>I'm okay, but I had a really scary experience. I was walking home from work and I got followed by a stranger. I was so scared that I ran the rest of the way home. Classmates <A>That's really terrifying. Have you told anyone or reported it? Classmates <B>Yeah, I told the police and they're looking for the guy. It's just really shaken me up. Classmates <A>I can imagine. I'm here for you if you need anything. Classmates <B>Thanks,. It's moments like these that remind me how important it is to have friends like you. Classmates <A>Of course, I'm always here to support you. Do you want to do something to take your mind off it? We could grab lunch or something. Classmates <B>\n",
      "input_text: <relationship> Speaker A and Speaker B [now] Classmates <A> Is everything okay? Classmates <B> Yeah, I'm fine. Just feeling a little overwhelmed today. Classmates <A> Want to talk about it? Maybe I can help. Classmates <B> I just have so much going on with school and family stuff. It's hard to keep up with everything. Classmates <A> I get it, that sounds really tough. Whenever I feel overwhelmed, I like to take a step back and prioritize what I need to focus on first. Maybe that could help you too? Classmates <B> That's a good idea. I'll try that. Thanks for listening and helping me out. Classmates <A> No problem. We're here for each other, right? Classmates <B> Definitely. Speaking of being there for each other, do you remember when we used to explore the city together? Classmates <A>\n",
      "input_text: <relationship> Speaker A and Speaker B [now] Neighbors <A>I'm really glad my hard work has paid off. It feels good to be recognized for my efforts. Neighbors <B>You should be proud of yourself. Not everyone has the dedication and commitment to work as hard as you do. Neighbors <A>Thank you. I believe that if you want to succeed, you have to put in the work. Neighbors <B>That's true, but it can also be important to take breaks and recharge when you need to. Neighbors <A>Oh, definitely. I've learned the hard way that burnout is a real thing. That's why I make sure to prioritize self-care and balance. Neighbors <B>That's good to hear. I remember a few years ago when you were so caught up in your business that you let it consume your life. Neighbors <A>Yes, I regret that. I was so focused on expanding the company that I neglected other important areas of my life. But I've learned that success isn't just about the business. It's about finding balance and happiness in all aspects of life. Neighbors <B>That's a really important lesson. It's impressive to see how much you've grown and evolved over the years. Neighbors <A>Thank you, I truly appreciate that. And speaking of growth, it's crazy to think about how far my business has come since we last spoke about it. Neighbors <B>Yes, you've come a long way. Your innovative ideas and drive have really paid off. Neighbors <A>It hasn't been easy, but it's been worth it. I'm grateful for the support and positivity of my community, including you, of course. Neighbors <B>\n",
      "input_text: <relationship> Speaker A and Speaker B [now] Classmates <A>Ah, it feels so good to wake up after a good night's sleep. I feel so refreshed and energized. Classmates <B>That's great to hear! Getting good sleep is so important for our overall health and well-being. Classmates <A>Definitely. I've been trying to make it a priority lately and it's really been making a difference. Remember that time we went bird-watching together with our binoculars? Classmates <B>Yes, I remember! That was a lot of fun. Have you been keeping up with your bird-watching journal? Classmates <A>Actually, I have! It's been really interesting to track the different species I've seen and learn more about their habitats and behaviors. Classmates <B>\n",
      "input_text: <relationship> Speaker A and Speaker B [now] Neighbors <A>Thank you so much for letting me use your phone, Neighbors B. I really needed to call my friend. Neighbors <B>Of course, any time. Is everything okay? Neighbors <A>Yes, everything's fine now. I just needed to talk to her about some things that have been weighing on me. It feels good to have that off my chest. Neighbors <B>I'm glad you were able to talk to her. Sometimes just having someone to listen can make all the difference. Neighbors <A>Absolutely. It's so important to have someone to confide in. Speaking of confiding, do you remember when I talked to you about how I didn't want to leave my friends behind a couple years ago? Neighbors <B>Yes, I do. Are you thinking about moving again? Neighbors <A>No, not at the moment. I was just reminded of how lucky I am to have such wonderful friends, and how important it is to maintain those connections. Speaking of connections, do you remember when we went to the grocery store to buy fruit a couple of years ago? Neighbors <B>I do, you wanted to sell the fruit, right? Neighbors <A>Yes, and you were so kind to help me carry it all back to my house. I really appreciated it. Neighbors <B>No problem at all. It was nice to have some fresh fruit around too. Speaking of fresh fruit, did you happen to try the new store that just opened up down the street? They have a great selection of produce. Neighbors <A>Oh no, I haven't had a chance to check it out yet. That's a great idea though, I'll have to go see what they have. Speaking of great ideas, do you remember when you gave me that Hawaiian shirt a few years ago? Neighbors <B>Yes, I do. I remember you saying how much you like wearing bright colors and how the shirt reminded you of the ocean. Neighbors <A>\n",
      "input_text: <relationship> Speaker A and Speaker B [now] <Parent>, I've been meaning to tell you that my perspective on life has changed. <Child>Oh really? How come? <Parent>Well, I went on this camping trip and I saw the world from a different angle. I realized that there are a lot of good things happening around us and that life isn't as bad as I had thought. <Child>That's great to hear,. What made you change your perspective? <Parent>I think it was just the experience of being out in nature and seeing all the beauty around us. It was like a reset button for my mindset. <Child>I'm happy for you,. It's always important to have a positive outlook on life. <Parent>Yes, absolutely. It's made me happier and more optimistic. Speaking of which, remember when I told you about how frustrated I was with video calls? <Child>Yes, I remember. <Parent>Well, my new perspective has made me realize that even though video calls may not be perfect, they're still a great way to stay in touch with loved ones who are far away. <Child>That's a good point,. It's all about how you look at things. <Parent>Exactly! And speaking of staying in touch with loved ones, remember when I got hurt on my jungle adventure? <Child>Yes, how could I forget? <Parent>\n",
      "input_text: <relationship> Speaker A and Speaker B [now] Co-workers <A>So, I had to have a talk with John this morning. He was really slacking off on the project I put him on. Co-workers <B>Oh no, what did you say to him? Co-workers <A>I had to be firm. I told him that he needed to start doing his part or he would be fired. Co-workers <B>That sounds harsh, but sometimes tough love is necessary. I remember a few years ago when I had to have a similar conversation with one of my team members. Co-workers <A>Yeah, it's not easy, but if we don't hold our team members accountable, the whole project suffers. Co-workers <B>Speaking of accountability, I still can't believe how dedicated you are to this company. You've been here for five years now! Co-workers <A>I know, it's crazy how time flies. But I really believe in the work we do here and I want to be a loyal employee. Co-workers <B>\n",
      "input_text: <relationship> Speaker A and Speaker B [now] <Student>Hi Teacher! <Teacher>Hi there! How are you today? <Student>I'm doing well, thank you. Today I wanted to talk about how I help my family every day. I help my little sister with her homework, and then I help my mom cook dinner and set the table. <Teacher>That's really kind of you. It's always important to help out your family. <Student>Yes, I agree. I know that it makes their lives a little bit easier, and it also makes me feel good to help others. <Teacher>It's great that you have that mentality. So, have you been doing anything else lately to help others? <Student>\n",
      "input_text: <relationship> Speaker A and Speaker B [now] Classmates <A>, it was so awesome driving the minivan today for soccer practice. I feel like I'm really contributing to the team. Classmates <B>Thanks for driving us today,. It definitely makes things easier when we have reliable transportation. Classmates <A>Yeah, no problem. It was actually kind of fun driving the minivan. Reminded me of that time I went to the railway station and was watching all the trains go by. Classmates <B>\n",
      "input_text: <relationship> Speaker A and Speaker B [now] Neighbors <A>You know, I've always been able to solve problems quickly. It's just how my brain works. Neighbors <B>Yeah, I've noticed that about you. You seem to figure things out before anyone else even realizes there's a problem. Neighbors <A>\n",
      "input_text: <relationship> Speaker A and Speaker B [now] <Athlete>Coach, I have something to tell you. <Coach>Sure, what's on your mind? <Athlete>Well, I finally kissed my crush last night and it was amazing! <Coach>That's great news! I'm happy for you. How did it feel? <Athlete>My heart was racing and I felt a rush of excitement. I've been thinking about it for weeks and I'm glad I finally went for it. <Coach>That's a brave move, Athlete. You had the courage to take charge and make it happen. How does it feel after the first kiss? <Athlete>It feels like we have a deeper connection now. We were both a little nervous at first, but now we're excited to explore the chemistry between us. <Coach>\n",
      "input_text: <relationship> Speaker A and Speaker B [now] <Husband>You know what, I was thinking about something last night. <Wife>What were you thinking about? <Husband>I was thinking about how sometimes I feel like I want to be the center of attention. <Wife>Oh, really? In what way? <Husband>Well, sometimes I just feel like you get all the attention and I'm just kind of in the background. <Wife>I'm sorry if you feel that way, honey. Is there anything I can do to help? <Husband>I don't know. It's not really your fault, it's just something I've been thinking about lately. <Wife>Well, maybe we can find ways to make you feel more like you're in the spotlight. <Husband>That's a good idea. Maybe we can plan some activities where I can take charge and be the one in charge. <Wife>\n",
      "input_text: <relationship> Speaker A and Speaker B [now] Classmates <B>Hey, Classmates A. Can I ask you a favor? Classmates <A>Sure, what is it? Classmates <B>I want to know the secret to success. You seem to have it all figured out. Classmates <A>Ha! I wish it were that simple. But hard work and dedication are definitely key. Without those two things, you won't get very far. Classmates <B>Yeah, that makes sense. You've always been really driven and focused on your goals. Classmates <A>I try my best. It's not always easy, but I believe that if you want something badly enough, you'll find a way to make it happen. Classmates <B>That's true. Speaking of which, remember that time you freed those girls who were being held captive? Classmates <A>Of course I remember. That was a pretty intense experience. Classmates <B>It was amazing how you were able to come up with a plan and execute it so flawlessly. Classmates <A>\n",
      "input_text: <relationship> Speaker A and Speaker B [now] Classmates <A>I've been thinking a lot about my military service lately. Classmates <B>Oh really? What made you start thinking about that? Classmates <A>Well, I've been doing some research on the different branches and I think the Army would be the best fit for me. Classmates <B>That's interesting. What do you like about the army? Classmates <A>\n",
      "input_text: <relationship> Speaker A and Speaker B [now] <Husband>I found a sitter for our daughter yesterday. She's very experienced and was recommended by a friend. <Wife>That's great news, thank you for taking care of that. <Husband>Of course, I want to make sure that our daughter is in good hands while you're at work. <Wife>Speaking of work, I'm still having issues with my lawyer. I just feel like he's not fighting hard enough for me in the divorce case. <Husband>I understand that you're frustrated, but have you talked to him about your concerns? <Wife>Yes, I have. But he just tells me that he's doing everything he can. <Husband>\n",
      "input_text: <relationship> Speaker A and Speaker B [now] <Patient>Thank you so much for agreeing to come out with me tonight, Doctor. I really wanted to share my favorite restaurant, Chez Poulet, with you. <Doctor>Of course, it's my pleasure. I've heard great things about this place. What do you recommend we try? <Patient>Definitely the poulet au vin blanc. It's their signature dish and my absolute favorite. <Doctor>Sounds delicious. And what about wine? <Patient>We have to try the Chablis, it pairs perfectly with the poulet. I'm so excited, I haven't been here in a while. <Doctor>It's nice to see you so enthusiastic. How have you been feeling lately? <Patient>\n"
     ]
    }
   ],
   "source": [
    "ans_jsons = []\n",
    "single_session = []\n",
    "\n",
    "for i, dialogue_lines in enumerate(dataset['prep_input']):\n",
    "    # relationship\n",
    "    relationship = \"Speaker A and Speaker B\"\n",
    "    role = \"Speaker A\"\n",
    "    if ' and ' in relationship:\n",
    "        rel = relationship.strip().split(' and ')\n",
    "        rel.remove(role)\n",
    "        speaker = [role, rel[0]]\n",
    "    else:\n",
    "        speaker = [f'{relationship} A', f'{relationship} B']\n",
    "    sequence = \"<relationship> {}\".format(relationship)\n",
    "\n",
    "    # previous dialouge extraction\n",
    "    text_list = dialogue_lines.split('Dialogue Session #')[1:]\n",
    "    session_list = [re.sub(r'^\\d+:\\s*', '', line) for line in text_list] # #1 숫자 제거\n",
    "    session_list = [re.sub(r'(\\b[^\\s:]+):', r'<\\1>', line) for line in session_list] # : -> <> 형식 변경\n",
    "    session_list = [line.replace('\\n', ' ').replace('```', '').strip() for line in session_list] # 불필요 개행문자, 공백제거\n",
    "    \n",
    "    # previous dialogue summary\n",
    "    for single_session in session_list[:-1]:\n",
    "        session_event = summarizer(single_session)[0]['summary_text']\n",
    "        single_session = []\n",
    "        time_interval = \"A few hours after\"\n",
    "        sequence = \"{} <{}> {}\".format(sequence, time_interval, session_event)\n",
    "        \n",
    "    # now session generate\n",
    "    single_session = session_list[-1][:-4] # last session\n",
    "    input_text = \"{} [now] {}\".format(sequence, single_session)\n",
    "    print('input_text:', input_text)\n",
    "    inputs = tokenizer([input_text], max_length=MODEL_MAX_LEN, truncation=True, return_tensors='pt').to(device)#.input_ids\n",
    "    \n",
    "    output_ids = model.generate(inputs[\"input_ids\"], max_new_tokens=TARGET_LEN, temperature=1.0, top_p=.95,do_sample=True)\n",
    "    outputs = tokenizer.decode(output_ids[0], skip_special_tokens=True, clean_up_tokenization_spaces=False).strip()\n",
    "                \n",
    "    # print('input:\\n', tokenizer.decode(inputs.input_ids[0]))\n",
    "    # print('output:\\n', outputs)\n",
    "    # if i%3==1:\n",
    "    #     break\n",
    "    \n",
    "    ans_jsons.append(\n",
    "        {\n",
    "            \"question_id\": i,\n",
    "            \"text\": outputs,\n",
    "            \"model_id\": model_name,\n",
    "            \"metadata\": {},\n",
    "        }\n",
    "    )"
   ]
  },
  {
   "cell_type": "code",
   "execution_count": 9,
   "metadata": {},
   "outputs": [],
   "source": [
    "filename = f\"predictions/{model_name}_{data_path.split('/')[-2]}.json\"\n",
    "save_path = os.path.dirname(filename)\n",
    "os.makedirs(save_path, exist_ok=True)\n",
    "df_ans_json = pd.DataFrame(ans_jsons)\n",
    "df_ans_json.to_json(filename, orient='records', lines=True)"
   ]
  },
  {
   "cell_type": "code",
   "execution_count": null,
   "metadata": {},
   "outputs": [],
   "source": []
  }
 ],
 "metadata": {
  "kernelspec": {
   "display_name": "ltm-venv",
   "language": "python",
   "name": "python3"
  },
  "language_info": {
   "codemirror_mode": {
    "name": "ipython",
    "version": 3
   },
   "file_extension": ".py",
   "mimetype": "text/x-python",
   "name": "python",
   "nbconvert_exporter": "python",
   "pygments_lexer": "ipython3",
   "version": "3.8.10"
  }
 },
 "nbformat": 4,
 "nbformat_minor": 2
}
