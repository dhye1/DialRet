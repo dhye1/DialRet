{
 "cells": [
  {
   "cell_type": "code",
   "execution_count": 32,
   "metadata": {},
   "outputs": [],
   "source": [
    "from datasets import load_dataset\n",
    "import pandas as pd"
   ]
  },
  {
   "cell_type": "code",
   "execution_count": 33,
   "metadata": {},
   "outputs": [],
   "source": [
    "data = load_dataset('nayohan/T_DSG')"
   ]
  },
  {
   "cell_type": "code",
   "execution_count": 34,
   "metadata": {},
   "outputs": [
    {
     "data": {
      "text/plain": [
       "Dataset({\n",
       "    features: ['input', 'output'],\n",
       "    num_rows: 2505\n",
       "})"
      ]
     },
     "execution_count": 34,
     "metadata": {},
     "output_type": "execute_result"
    }
   ],
   "source": [
    "data['test']"
   ]
  },
  {
   "cell_type": "code",
   "execution_count": 35,
   "metadata": {},
   "outputs": [
    {
     "data": {
      "text/html": [
       "<div>\n",
       "<style scoped>\n",
       "    .dataframe tbody tr th:only-of-type {\n",
       "        vertical-align: middle;\n",
       "    }\n",
       "\n",
       "    .dataframe tbody tr th {\n",
       "        vertical-align: top;\n",
       "    }\n",
       "\n",
       "    .dataframe thead th {\n",
       "        text-align: right;\n",
       "    }\n",
       "</style>\n",
       "<table border=\"1\" class=\"dataframe\">\n",
       "  <thead>\n",
       "    <tr style=\"text-align: right;\">\n",
       "      <th></th>\n",
       "      <th>text</th>\n",
       "      <th>answer</th>\n",
       "      <th>question_id</th>\n",
       "      <th>type</th>\n",
       "    </tr>\n",
       "  </thead>\n",
       "  <tbody>\n",
       "    <tr>\n",
       "      <th>0</th>\n",
       "      <td>You will be shown a 12 turn dialogues between ...</td>\n",
       "      <td>Speaker 1: Oh neat! I don't eat meat but I do ...</td>\n",
       "      <td>0</td>\n",
       "      <td>chatting_dialogsum</td>\n",
       "    </tr>\n",
       "    <tr>\n",
       "      <th>1</th>\n",
       "      <td>You will be shown a 12 turn dialogues between ...</td>\n",
       "      <td>Speaker 1: I do actually.  I like the controll...</td>\n",
       "      <td>1</td>\n",
       "      <td>chatting_dialogsum</td>\n",
       "    </tr>\n",
       "    <tr>\n",
       "      <th>2</th>\n",
       "      <td>You will be shown a 12 turn dialogues between ...</td>\n",
       "      <td>Speaker 1: I usually just lift weights there t...</td>\n",
       "      <td>2</td>\n",
       "      <td>chatting_dialogsum</td>\n",
       "    </tr>\n",
       "    <tr>\n",
       "      <th>3</th>\n",
       "      <td>You will be shown a 12 turn dialogues between ...</td>\n",
       "      <td>Speaker 1: Oh nice! Is it new or just been hid...</td>\n",
       "      <td>3</td>\n",
       "      <td>chatting_dialogsum</td>\n",
       "    </tr>\n",
       "    <tr>\n",
       "      <th>4</th>\n",
       "      <td>You will be shown a 12 turn dialogues between ...</td>\n",
       "      <td>Speaker 2: Journaling is an excellent idea! I ...</td>\n",
       "      <td>4</td>\n",
       "      <td>chatting_dialogsum</td>\n",
       "    </tr>\n",
       "    <tr>\n",
       "      <th>5</th>\n",
       "      <td>You will be shown a 16 turn dialogues between ...</td>\n",
       "      <td>Speaker 1: My whole life. Oklahoma city, oklah...</td>\n",
       "      <td>5</td>\n",
       "      <td>chatting_dialogsum</td>\n",
       "    </tr>\n",
       "    <tr>\n",
       "      <th>6</th>\n",
       "      <td>You will be shown a 12 turn dialogues between ...</td>\n",
       "      <td>Speaker 1: I try to excel in both.  I find the...</td>\n",
       "      <td>6</td>\n",
       "      <td>chatting_dialogsum</td>\n",
       "    </tr>\n",
       "    <tr>\n",
       "      <th>7</th>\n",
       "      <td>You will be shown a 12 turn dialogues between ...</td>\n",
       "      <td>Speaker 1: Thanks, I think I'm going to this c...</td>\n",
       "      <td>7</td>\n",
       "      <td>chatting_dialogsum</td>\n",
       "    </tr>\n",
       "    <tr>\n",
       "      <th>8</th>\n",
       "      <td>You will be shown a 12 turn dialogues between ...</td>\n",
       "      <td>Speaker 2: Yes, I would agree that its best to...</td>\n",
       "      <td>8</td>\n",
       "      <td>chatting_dialogsum</td>\n",
       "    </tr>\n",
       "    <tr>\n",
       "      <th>9</th>\n",
       "      <td>You will be shown a 12 turn dialogues between ...</td>\n",
       "      <td>Speaker 2: I love mushrooms too, but as much a...</td>\n",
       "      <td>9</td>\n",
       "      <td>chatting_dialogsum</td>\n",
       "    </tr>\n",
       "  </tbody>\n",
       "</table>\n",
       "</div>"
      ],
      "text/plain": [
       "                                                text  \\\n",
       "0  You will be shown a 12 turn dialogues between ...   \n",
       "1  You will be shown a 12 turn dialogues between ...   \n",
       "2  You will be shown a 12 turn dialogues between ...   \n",
       "3  You will be shown a 12 turn dialogues between ...   \n",
       "4  You will be shown a 12 turn dialogues between ...   \n",
       "5  You will be shown a 16 turn dialogues between ...   \n",
       "6  You will be shown a 12 turn dialogues between ...   \n",
       "7  You will be shown a 12 turn dialogues between ...   \n",
       "8  You will be shown a 12 turn dialogues between ...   \n",
       "9  You will be shown a 12 turn dialogues between ...   \n",
       "\n",
       "                                              answer  question_id  \\\n",
       "0  Speaker 1: Oh neat! I don't eat meat but I do ...            0   \n",
       "1  Speaker 1: I do actually.  I like the controll...            1   \n",
       "2  Speaker 1: I usually just lift weights there t...            2   \n",
       "3  Speaker 1: Oh nice! Is it new or just been hid...            3   \n",
       "4  Speaker 2: Journaling is an excellent idea! I ...            4   \n",
       "5  Speaker 1: My whole life. Oklahoma city, oklah...            5   \n",
       "6  Speaker 1: I try to excel in both.  I find the...            6   \n",
       "7  Speaker 1: Thanks, I think I'm going to this c...            7   \n",
       "8  Speaker 2: Yes, I would agree that its best to...            8   \n",
       "9  Speaker 2: I love mushrooms too, but as much a...            9   \n",
       "\n",
       "                 type  \n",
       "0  chatting_dialogsum  \n",
       "1  chatting_dialogsum  \n",
       "2  chatting_dialogsum  \n",
       "3  chatting_dialogsum  \n",
       "4  chatting_dialogsum  \n",
       "5  chatting_dialogsum  \n",
       "6  chatting_dialogsum  \n",
       "7  chatting_dialogsum  \n",
       "8  chatting_dialogsum  \n",
       "9  chatting_dialogsum  "
      ]
     },
     "execution_count": 35,
     "metadata": {},
     "output_type": "execute_result"
    }
   ],
   "source": [
    "df = pd.DataFrame(data['test'][:10])\n",
    "df['question_id']=range(len(df))\n",
    "df['type']='chatting_dialogsum'\n",
    "df.rename(columns = {'input': 'text'}, inplace = True)\n",
    "df.rename(columns = {'output': 'answer'}, inplace = True)\n",
    "df"
   ]
  },
  {
   "cell_type": "code",
   "execution_count": 36,
   "metadata": {},
   "outputs": [],
   "source": [
    "df.to_json('test-T_DSG.jsonl', orient='records', lines=True)"
   ]
  },
  {
   "cell_type": "code",
   "execution_count": 37,
   "metadata": {},
   "outputs": [
    {
     "data": {
      "text/plain": [
       "{'question_id': '0',\n",
       " 'text': \"You will be shown 1 Query Sentence and 5 Topic Options. Please read, memorize, and understand given materials, then complete the task under the guidance of Task Introduction.\\n\\n```\\nQuery Sentence:\\nI need help with the office party. Yes, of course. We could split it. What part would you like to do, the food or the entertainment? I think we will have opportunities to meet each other in the future. OK, I think it's time for you to check in. If you run into any difficulty, we'll be here to assist you immediately. Your credit is fine, Sir. Now, tell me, what is it that you need the loan for? I've just bought a second hand apartment and I'm looking to do some renovations. You know, a bit of decorating, some new furniture, nothing flashy.\\nTopic Options:\\n(1) see off. Mr. Wang sees user off at the airport and they share good expectations of their business relationship.\\n(2) party preparation. bot helps user to prepare for the party. They decide the style, food, and music and will plan it in detail on Friday.\\n(3) NOTO. None of the others.\\n(4) Loan for renovations. bot wants to go for the Petty Consumer Loan for the renovations of his apartment. user says the maximum they can lend bot is 20,000 RMB and bot accepts it.\\n(5)  annoying things. Gav had a good sleep last night but worries about the traffic jam and classes to teach. bot asks Gav's plan for the weekend and bot gives the suggestions when Gav feels upset.\\n```\\n\\n```\\nTask Introduction:\\nSelect one or more topics from Topic Options that relevant with Query Sentence. Note that there is a NOTO option, select it if all other topic options are not related to Query Sentence. Do not report the option content, but only report selected option numbers in a string separated with '#'. For example, if topic option N and M are chosen, then the output is: N#M. For Query Sentence in the task, any chosen option numbers should be larger than 0 but not exceed the total num of Topic Options 5.\\n```\\n\\nTask Result:\",\n",
       " 'type': 'retrieval_dialogsum',\n",
       " 'answer': '1#2#4'}"
      ]
     },
     "execution_count": 37,
     "metadata": {},
     "output_type": "execute_result"
    }
   ],
   "source": [
    "{\"question_id\": \"0\", \n",
    " \"text\": \"You will be shown 1 Query Sentence and 5 Topic Options. Please read, memorize, and understand given materials, then complete the task under the guidance of Task Introduction.\\n\\n```\\nQuery Sentence:\\nI need help with the office party. Yes, of course. We could split it. What part would you like to do, the food or the entertainment? I think we will have opportunities to meet each other in the future. OK, I think it's time for you to check in. If you run into any difficulty, we'll be here to assist you immediately. Your credit is fine, Sir. Now, tell me, what is it that you need the loan for? I've just bought a second hand apartment and I'm looking to do some renovations. You know, a bit of decorating, some new furniture, nothing flashy.\\nTopic Options:\\n(1) see off. Mr. Wang sees user off at the airport and they share good expectations of their business relationship.\\n(2) party preparation. bot helps user to prepare for the party. They decide the style, food, and music and will plan it in detail on Friday.\\n(3) NOTO. None of the others.\\n(4) Loan for renovations. bot wants to go for the Petty Consumer Loan for the renovations of his apartment. user says the maximum they can lend bot is 20,000 RMB and bot accepts it.\\n(5)  annoying things. Gav had a good sleep last night but worries about the traffic jam and classes to teach. bot asks Gav's plan for the weekend and bot gives the suggestions when Gav feels upset.\\n```\\n\\n```\\nTask Introduction:\\nSelect one or more topics from Topic Options that relevant with Query Sentence. Note that there is a NOTO option, select it if all other topic options are not related to Query Sentence. Do not report the option content, but only report selected option numbers in a string separated with '#'. For example, if topic option N and M are chosen, then the output is: N#M. For Query Sentence in the task, any chosen option numbers should be larger than 0 but not exceed the total num of Topic Options 5.\\n```\\n\\nTask Result:\", \n",
    " \"type\": \"retrieval_dialogsum\", \n",
    " \"answer\": \"1#2#4\"}\n"
   ]
  }
 ],
 "metadata": {
  "kernelspec": {
   "display_name": "ltm-venv",
   "language": "python",
   "name": "python3"
  },
  "language_info": {
   "codemirror_mode": {
    "name": "ipython",
    "version": 3
   },
   "file_extension": ".py",
   "mimetype": "text/x-python",
   "name": "python",
   "nbconvert_exporter": "python",
   "pygments_lexer": "ipython3",
   "version": "3.8.10"
  }
 },
 "nbformat": 4,
 "nbformat_minor": 2
}
