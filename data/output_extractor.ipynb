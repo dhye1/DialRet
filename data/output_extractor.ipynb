{
 "cells": [
  {
   "cell_type": "code",
   "execution_count": 2,
   "metadata": {},
   "outputs": [
    {
     "name": "stdout",
     "output_type": "stream",
     "text": [
      "tasks/MS_DG_SFT/test.jsonl\n",
      "tasks/MS/test.jsonl\n",
      "tasks/MS2/test.jsonl\n",
      "tasks/MT_DG_SFT/test.jsonl\n",
      "tasks/MT/test.jsonl\n",
      "tasks/MT_DG/test.jsonl\n",
      "tasks/MS_DG/test.jsonl\n",
      "tasks/MS_TIE/test.jsonl\n",
      "tasks/MS_DS/test.jsonl\n",
      "tasks/MT_SRE/test.jsonl\n",
      "tasks/MS_DHG/test.jsonl\n",
      "tasks/MT2/test.jsonl\n",
      "tasks/MT_DS/test.jsonl\n",
      "tasks/MT_DHG/test.jsonl\n"
     ]
    }
   ],
   "source": [
    "from glob import glob\n",
    "import pandas as pd\n",
    "import os\n",
    "\n",
    "dataset_path = glob('tasks/M*')\n",
    "save_path = './output'\n",
    "os.makedirs(save_path, exist_ok=True)\n",
    "\n",
    "for path in dataset_path:\n",
    "    file_path = path + '/test.jsonl'\n",
    "    dataset_name = path.split('/')[-1]\n",
    "    print(file_path)\n",
    "    df = pd.read_json(file_path, lines=True, orient='records')\n",
    "    output = df['output'][:100]\n",
    "    output_df = pd.DataFrame(output)\n",
    "    output_df.to_json(f'{save_path}/{dataset_name}.jsonl', lines=True, orient='records')"
   ]
  },
  {
   "cell_type": "code",
   "execution_count": 4,
   "metadata": {},
   "outputs": [
    {
     "name": "stdout",
     "output_type": "stream",
     "text": [
      "tasks/MS2/test.jsonl\n",
      "                                                input\n",
      "0   ```\\nDialogue Session #1:\\nNeighbors A:Hey the...\n",
      "1   ```\\nDialogue Session #1:\\nNeighbors A:I just ...\n",
      "2   ```\\nDialogue Session #1:\\nCo-workers A:Can yo...\n",
      "3   ```\\nDialogue Session #1:\\nCo-workers A:I foun...\n",
      "4   ```\\nDialogue Session #1:\\nDoctor:Hello Patien...\n",
      "..                                                ...\n",
      "95  ```\\nDialogue Session #1:\\nClassmates A:Classm...\n",
      "96  ```\\nDialogue Session #1:\\nMentee:I'm feeling ...\n",
      "97  ```\\nDialogue Session #1:\\nNeighbors A:Hey, do...\n",
      "98  ```\\nDialogue Session #1:\\nClassmates A:It's b...\n",
      "99  ```\\nDialogue Session #1:\\nClassmates A:It's s...\n",
      "\n",
      "[100 rows x 1 columns]\n"
     ]
    }
   ],
   "source": [
    "from glob import glob\n",
    "import pandas as pd\n",
    "import os\n",
    "\n",
    "dataset_path = glob('tasks/MS2')\n",
    "save_path = './context'\n",
    "os.makedirs(save_path, exist_ok=True)\n",
    "\n",
    "for path in dataset_path:\n",
    "    file_path = path + '/test.jsonl'\n",
    "    dataset_name = path.split('/')[-1]\n",
    "    print(file_path)\n",
    "    df = pd.read_json(file_path, lines=True, orient='records')\n",
    "    output = df['input'][:100]\n",
    "    output_df = pd.DataFrame(output)\n",
    "    output_df['input'] = output_df['input'].map(lambda x: '```'+ '```'.join(x.split('```')[1:-1]) +'```')\n",
    "    print(output_df)\n",
    "    os.makedirs(f'{save_path}/{dataset_name}',exist_ok=True)\n",
    "    output_df.to_json(f'{save_path}/{dataset_name}/test.jsonl', lines=True, orient='records')"
   ]
  },
  {
   "cell_type": "code",
   "execution_count": 13,
   "metadata": {},
   "outputs": [
    {
     "name": "stdout",
     "output_type": "stream",
     "text": [
      "tasks/MS_DHG/train.jsonl\n"
     ]
    }
   ],
   "source": [
    "save_path = './output'\n",
    "os.makedirs(save_path, exist_ok=True)\n",
    "\n",
    "for path in [\"tasks/MS_DHG\"]:\n",
    "    file_path = path + '/train.jsonl'\n",
    "    dataset_name = path.split('/')[-1]\n",
    "    print(file_path)\n",
    "    df = pd.read_json(file_path, lines=True, orient='records')\n",
    "    output = df\n",
    "    output_df = pd.DataFrame(output)"
   ]
  },
  {
   "cell_type": "code",
   "execution_count": 14,
   "metadata": {},
   "outputs": [
    {
     "data": {
      "text/plain": [
       "7996"
      ]
     },
     "execution_count": 14,
     "metadata": {},
     "output_type": "execute_result"
    }
   ],
   "source": [
    "len(output_df['input'][0])"
   ]
  },
  {
   "cell_type": "code",
   "execution_count": 15,
   "metadata": {},
   "outputs": [
    {
     "name": "stdout",
     "output_type": "stream",
     "text": [
      "DatasetDict({\n",
      "    train: Dataset({\n",
      "        features: ['input', 'output'],\n",
      "        num_rows: 8000\n",
      "    })\n",
      "})\n"
     ]
    },
    {
     "name": "stderr",
     "output_type": "stream",
     "text": [
      "Map (num_proc=96): 100%|██████████| 8000/8000 [00:14<00:00, 570.25 examples/s]\n"
     ]
    },
    {
     "name": "stdout",
     "output_type": "stream",
     "text": [
      "Dataset({\n",
      "    features: ['input', 'output', 'input_ids', 'attention_mask'],\n",
      "    num_rows: 8000\n",
      "})\n"
     ]
    },
    {
     "name": "stderr",
     "output_type": "stream",
     "text": [
      "/home/uj-user/Yo/hybrid-ltm/ltm-venv/lib/python3.8/site-packages/datasets/table.py:1395: FutureWarning: promote has been superseded by mode='default'.\n",
      "  block_group = [InMemoryTable(cls._concat_blocks(list(block_group), axis=axis))]\n",
      "/home/uj-user/Yo/hybrid-ltm/ltm-venv/lib/python3.8/site-packages/datasets/table.py:1421: FutureWarning: promote has been superseded by mode='default'.\n",
      "  table = cls._concat_blocks(blocks, axis=0)\n"
     ]
    }
   ],
   "source": [
    "from transformers import AutoTokenizer\n",
    "from datasets import load_dataset, Dataset, DatasetDict\n",
    "data = Dataset.from_pandas(output_df)\n",
    "ds = DatasetDict({'train':data})\n",
    "print(ds)\n",
    "tokenizer = AutoTokenizer.from_pretrained('pinkmanlove/llama-7b-hf', use_fast=False)\n",
    "\n",
    "def tokenize_func(example):\n",
    "    return tokenizer(example['input'], max_length=4096, truncation=True)\n",
    "# encoded = tokenizer.encode(output_df['input'][0])\n",
    "# len(encoded)\n",
    "prep_datda = data.map(tokenize_func, num_proc=96)\n",
    "print(prep_datda)"
   ]
  },
  {
   "cell_type": "code",
   "execution_count": 16,
   "metadata": {},
   "outputs": [
    {
     "data": {
      "text/plain": [
       "<seaborn.axisgrid.FacetGrid at 0x7f593da9bb20>"
      ]
     },
     "execution_count": 16,
     "metadata": {},
     "output_type": "execute_result"
    },
    {
     "data": {
      "image/png": "[encoded data removed]",
      "text/plain": [
       "<Figure size 500x500 with 1 Axes>"
      ]
     },
     "metadata": {},
     "output_type": "display_data"
    }
   ],
   "source": [
    "import seaborn as sns\n",
    "data_len = [len(p) for p in prep_datda['input_ids']]\n",
    "sns.displot(data_len)"
   ]
  },
  {
   "cell_type": "code",
   "execution_count": 12,
   "metadata": {},
   "outputs": [
    {
     "data": {
      "text/plain": [
       "<seaborn.axisgrid.FacetGrid at 0x7f5927dff820>"
      ]
     },
     "execution_count": 12,
     "metadata": {},
     "output_type": "execute_result"
    },
    {
     "data": {
      "image/png": "[encoded data removed]",
      "text/plain": [
       "<Figure size 500x500 with 1 Axes>"
      ]
     },
     "metadata": {},
     "output_type": "display_data"
    }
   ],
   "source": [
    "import seaborn as sns\n",
    "data_len = [len(p) for p in prep_datda['output']]\n",
    "sns.displot(data_len)"
   ]
  },
  {
   "cell_type": "code",
   "execution_count": 9,
   "metadata": {},
   "outputs": [
    {
     "name": "stderr",
     "output_type": "stream",
     "text": [
      "Some weights of RobertaModel were not initialized from the model checkpoint at roberta-large and are newly initialized: ['roberta.pooler.dense.bias', 'roberta.pooler.dense.weight']\n",
      "You should probably TRAIN this model on a down-stream task to be able to use it for predictions and inference.\n"
     ]
    }
   ],
   "source": [
    "from evaluate import load\n",
    "bertscore = load(\"bertscore\")\n",
    "predictions = [\"hello there\", \"general kenobi\"]\n",
    "references = [\"hello there\", \"general kenobi\"]\n",
    "results = bertscore.compute(predictions=predictions, references=references, lang=\"en\")"
   ]
  }
 ],
 "metadata": {
  "kernelspec": {
   "display_name": "ltm-venv",
   "language": "python",
   "name": "python3"
  },
  "language_info": {
   "codemirror_mode": {
    "name": "ipython",
    "version": 3
   },
   "file_extension": ".py",
   "mimetype": "text/x-python",
   "name": "python",
   "nbconvert_exporter": "python",
   "pygments_lexer": "ipython3",
   "version": "3.8.10"
  }
 },
 "nbformat": 4,
 "nbformat_minor": 2
}
